{
 "cells": [
  {
   "cell_type": "code",
   "execution_count": null,
   "id": "c9d0e1a8",
   "metadata": {},
   "outputs": [],
   "source": [
    "import matplotlib.pyplot as plt\n",
    "import cv2 as cv\n",
    "# from VnPost.Server.utils.inference import OCR_server_pipeline\n",
    "from VnPost.Server.utils.inference_obb import OCR_server_pipeline\n",
    "import os"
   ]
  },
  {
   "cell_type": "code",
   "execution_count": null,
   "id": "1dfe3c70",
   "metadata": {},
   "outputs": [],
   "source": [
    "model_path = \"/mnt/d/VNPost/Mail_OCR/weights\"\n",
    "\n",
    "yolo_det_path = os.path.join(model_path, \"yolo/det/yolo_detect_addr.pt\")\n",
    "yolo_seg_path = os.path.join(model_path, \"yolo/seg/yolo_segment.pt\")\n",
    "paddle_doc_cls_path = os.path.join(model_path, \"doc_cls\")\n",
    "paddle_config_path = \"/mnt/d/VNPost/Mail_OCR/OCR.yaml\"\n",
    "\n",
    "OCR = OCR_server_pipeline(\n",
    "    yolo_det_path = yolo_det_path,\n",
    "    yolo_seg_path = yolo_seg_path,\n",
    "    paddle_doc_cls_path = paddle_doc_cls_path,\n",
    "    paddle_config = paddle_config_path,\n",
    "    device=\"cuda\"\n",
    ")"
   ]
  },
  {
   "cell_type": "code",
   "execution_count": null,
   "id": "61b13f73",
   "metadata": {},
   "outputs": [],
   "source": [
    "# image = cv.imread(\"/mnt/d/VNPost/raw data/data_thu/2670.jpg\")\n",
    "\n",
    "image = plt.imread(\"/mnt/d/VNPost/raw data/address_images/4673.jpg\")\n",
    "\n",
    "result, sentence = OCR.ocr(image)"
   ]
  },
  {
   "cell_type": "code",
   "execution_count": null,
   "id": "d65a8dcf",
   "metadata": {},
   "outputs": [],
   "source": [
    "plt.imshow(result)\n",
    "plt.axis('off')  # hide axes\n",
    "plt.title(\"Image Display\")\n",
    "plt.show()\n",
    "\n",
    "final_sen = \"\"\n",
    "for sen in sentence:\n",
    "    print(sen)\n",
    "    final_sen += sen+\" \"\n",
    "\n",
    "print()\n",
    "print(final_sen)"
   ]
  }
 ],
 "metadata": {
  "kernelspec": {
   "display_name": "Mail_ocr_2",
   "language": "python",
   "name": "python3"
  },
  "language_info": {
   "codemirror_mode": {
    "name": "ipython",
    "version": 3
   },
   "file_extension": ".py",
   "mimetype": "text/x-python",
   "name": "python",
   "nbconvert_exporter": "python",
   "pygments_lexer": "ipython3",
   "version": "3.10.18"
  }
 },
 "nbformat": 4,
 "nbformat_minor": 5
}
