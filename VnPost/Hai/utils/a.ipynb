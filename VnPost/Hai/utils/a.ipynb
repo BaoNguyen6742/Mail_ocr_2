{
 "cells": [
  {
   "cell_type": "code",
   "execution_count": 9,
   "id": "73eba4d1",
   "metadata": {},
   "outputs": [],
   "source": [
    "class A:\n",
    "    def __init__(self):\n",
    "        self.a = 1\n",
    "\n",
    "    @staticmethod\n",
    "    def add_num(b):\n",
    "        return 1 + b"
   ]
  },
  {
   "cell_type": "code",
   "execution_count": 10,
   "id": "1e2be286",
   "metadata": {},
   "outputs": [],
   "source": [
    "x = A()"
   ]
  },
  {
   "cell_type": "code",
   "execution_count": 12,
   "id": "e6d10109",
   "metadata": {},
   "outputs": [
    {
     "data": {
      "text/plain": [
       "2"
      ]
     },
     "execution_count": 12,
     "metadata": {},
     "output_type": "execute_result"
    }
   ],
   "source": [
    "x.add_num(1)"
   ]
  }
 ],
 "metadata": {
  "kernelspec": {
   "display_name": ".venv",
   "language": "python",
   "name": "python3"
  },
  "language_info": {
   "codemirror_mode": {
    "name": "ipython",
    "version": 3
   },
   "file_extension": ".py",
   "mimetype": "text/x-python",
   "name": "python",
   "nbconvert_exporter": "python",
   "pygments_lexer": "ipython3",
   "version": "3.10.17"
  }
 },
 "nbformat": 4,
 "nbformat_minor": 5
}
